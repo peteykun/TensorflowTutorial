{
 "cells": [
  {
   "cell_type": "code",
   "execution_count": 1,
   "metadata": {
    "collapsed": true
   },
   "outputs": [],
   "source": [
    "import tensorflow as tf\n",
    "import input_data\n",
    "import numpy as np\n",
    "import random"
   ]
  },
  {
   "cell_type": "code",
   "execution_count": 2,
   "metadata": {
    "collapsed": true
   },
   "outputs": [],
   "source": [
    "hidden_size = 2000"
   ]
  },
  {
   "cell_type": "code",
   "execution_count": 3,
   "metadata": {
    "collapsed": true
   },
   "outputs": [],
   "source": [
    "def get_weights(shape, interval):\n",
    "    val = np.random.uniform(-interval, interval, size=shape)\n",
    "    val = np.cast['float32'](val)\n",
    "    \n",
    "    return tf.Variable(val)\n",
    "\n",
    "def get_bias(shape, offset=0):\n",
    "    val = np.zeros(shape) - offset\n",
    "    val = np.cast['float32'](val)\n",
    "    \n",
    "    return tf.Variable(val)"
   ]
  },
  {
   "cell_type": "code",
   "execution_count": 4,
   "metadata": {
    "collapsed": true
   },
   "outputs": [],
   "source": [
    "def binomial_draw(shape=[1], p=0.5, dtype='float32'):\n",
    "    return tf.select(tf.less(tf.random_uniform(shape=shape, minval=0, maxval=1, dtype='float32'), tf.fill(shape, p)), tf.ones(shape, dtype=dtype), tf.zeros(shape, dtype=dtype))"
   ]
  },
  {
   "cell_type": "code",
   "execution_count": 5,
   "metadata": {
    "collapsed": true
   },
   "outputs": [],
   "source": [
    "def add_noise(tensor, rate=0.2):\n",
    "    # Salt and pepper noise\n",
    "    a = binomial_draw(shape=tf.shape(tensor), p=1-rate, dtype='float32')\n",
    "    b = binomial_draw(shape=tf.shape(tensor), p=0.5, dtype='float32')\n",
    "    z = tf.zeros(tf.shape(tensor), dtype='float32')\n",
    "    c = tf.select(tf.equal(a, z), b, z)\n",
    "    \n",
    "    return tf.add(tf.mul(tensor, a), c)"
   ]
  },
  {
   "cell_type": "markdown",
   "metadata": {},
   "source": [
    "Input"
   ]
  },
  {
   "cell_type": "code",
   "execution_count": 6,
   "metadata": {
    "collapsed": true
   },
   "outputs": [],
   "source": [
    "input_ = tf.placeholder(tf.float32, [None, 784])"
   ]
  },
  {
   "cell_type": "markdown",
   "metadata": {},
   "source": [
    "Model"
   ]
  },
  {
   "cell_type": "code",
   "execution_count": 7,
   "metadata": {
    "collapsed": false
   },
   "outputs": [],
   "source": [
    "# Binarize input\n",
    "binarized_input = tf.floor(tf.add(input_, tf.fill(tf.shape(input_), 0.5)))\n",
    "\n",
    "# Add noise to input\n",
    "noised_input = add_noise(binarized_input, 0.4)\n",
    "\n",
    "# Input layer to hidden layer\n",
    "W1 = get_weights([784, hidden_size], np.sqrt(6. / (784 + hidden_size)))\n",
    "b1 = get_bias([hidden_size])\n",
    "\n",
    "# Hidden layer to output layer\n",
    "W2 = get_weights([hidden_size, 784], np.sqrt(6. / (784 + hidden_size)))\n",
    "b2 = get_bias([784])\n",
    "\n",
    "# Activations\n",
    "hidden = tf.sigmoid(tf.matmul(noised_input, W1) + b1)\n",
    "output = tf.sigmoid(tf.matmul(hidden, W2) + b2)"
   ]
  },
  {
   "cell_type": "markdown",
   "metadata": {},
   "source": [
    "Loss and Optimizer"
   ]
  },
  {
   "cell_type": "code",
   "execution_count": 8,
   "metadata": {
    "collapsed": false
   },
   "outputs": [],
   "source": [
    "# Loss\n",
    "clipped_output         = tf.clip_by_value(output, 1e-10, 1.0)\n",
    "clipped_1_minus_output = tf.clip_by_value(1 - output, 1e-10, 1.0)\n",
    "\n",
    "loss = -tf.reduce_sum(input_ * tf.log(clipped_output) + (1 - input_) * tf.log(clipped_1_minus_output))"
   ]
  },
  {
   "cell_type": "code",
   "execution_count": 9,
   "metadata": {
    "collapsed": true
   },
   "outputs": [],
   "source": [
    "# Optimizer\n",
    "train_op = tf.train.AdamOptimizer().minimize(loss)"
   ]
  },
  {
   "cell_type": "markdown",
   "metadata": {},
   "source": [
    "Get some data"
   ]
  },
  {
   "cell_type": "code",
   "execution_count": 10,
   "metadata": {
    "collapsed": false,
    "scrolled": true
   },
   "outputs": [
    {
     "name": "stdout",
     "output_type": "stream",
     "text": [
      "Extracting MNIST_data/train-images-idx3-ubyte.gz\n",
      "Extracting MNIST_data/train-labels-idx1-ubyte.gz\n",
      "Extracting MNIST_data/t10k-images-idx3-ubyte.gz\n",
      "Extracting MNIST_data/t10k-labels-idx1-ubyte.gz\n"
     ]
    }
   ],
   "source": [
    "mnist = input_data.read_data_sets(\"MNIST_data/\", one_hot=True)\n",
    "\n",
    "# Validation split\n",
    "valid_ratio = float(10)/55\n",
    "train_pairs = zip(mnist.train.images, mnist.train.labels)\n",
    "random.shuffle(train_pairs)\n",
    "train_X, train_Y = zip(*train_pairs[int(valid_ratio*len(train_pairs)):])\n",
    "valid_X, valid_Y = zip(*train_pairs[:int(valid_ratio*len(train_pairs))])\n",
    "\n",
    "# Test pairs\n",
    "test_X, test_Y = mnist.test.images, mnist.test.labels"
   ]
  },
  {
   "cell_type": "code",
   "execution_count": 11,
   "metadata": {
    "collapsed": false
   },
   "outputs": [
    {
     "name": "stdout",
     "output_type": "stream",
     "text": [
      "Training: 45000\n",
      "Validation: 10000\n",
      "Test: 10000\n"
     ]
    }
   ],
   "source": [
    "print 'Training:', len(train_X)\n",
    "print 'Validation:', len(valid_X)\n",
    "print 'Test:', len(test_X)"
   ]
  },
  {
   "cell_type": "markdown",
   "metadata": {},
   "source": [
    "Training"
   ]
  },
  {
   "cell_type": "code",
   "execution_count": 12,
   "metadata": {
    "collapsed": true
   },
   "outputs": [],
   "source": [
    "batch_size = 64"
   ]
  },
  {
   "cell_type": "code",
   "execution_count": 13,
   "metadata": {
    "collapsed": false,
    "scrolled": true
   },
   "outputs": [
    {
     "name": "stdout",
     "output_type": "stream",
     "text": [
      "End of epoch 1:\n",
      "Training loss: 0.16498995219 Validation loss: 0.13446409187 Test loss: 0.13329487225\n",
      "\n",
      "End of epoch 2:\n",
      "Training loss: 0.129372451421 Validation loss: 0.125565910951 Test loss: 0.124233209669\n",
      "\n",
      "End of epoch 3:\n",
      "Training loss: 0.123571849206 Validation loss: 0.121929789201 Test loss: 0.120827437258\n",
      "\n",
      "End of epoch 4:\n",
      "Training loss: 0.120269420438 Validation loss: 0.119185788291 Test loss: 0.117985231723\n",
      "\n",
      "End of epoch 5:\n",
      "Training loss: 0.117948079589 Validation loss: 0.117251614948 Test loss: 0.115751088321\n",
      "\n",
      "End of epoch 6:\n",
      "Training loss: 0.116077403093 Validation loss: 0.115439384786 Test loss: 0.114246667398\n",
      "\n",
      "End of epoch 7:\n",
      "Training loss: 0.114718552725 Validation loss: 0.114480276435 Test loss: 0.113455698604\n",
      "\n",
      "End of epoch 8:\n",
      "Training loss: 0.113593789826 Validation loss: 0.113744928224 Test loss: 0.113074428682\n",
      "\n",
      "End of epoch 9:\n",
      "Training loss: 0.112758159402 Validation loss: 0.11307096525 Test loss: 0.111997614601\n",
      "\n",
      "End of epoch 10:\n",
      "Training loss: 0.11208753526 Validation loss: 0.112143317734 Test loss: 0.111284672434\n",
      "\n",
      "End of epoch 11:\n",
      "Training loss: 0.111467035415 Validation loss: 0.111963903074 Test loss: 0.111150063188\n",
      "\n",
      "End of epoch 12:\n",
      "Training loss: 0.110922244317 Validation loss: 0.111520615939 Test loss: 0.110532169938\n",
      "\n",
      "End of epoch 13:\n",
      "Training loss: 0.110488370952 Validation loss: 0.111001018078 Test loss: 0.110224861427\n",
      "\n",
      "End of epoch 14:\n",
      "Training loss: 0.110126078684 Validation loss: 0.110861600787 Test loss: 0.110011909533\n",
      "\n",
      "End of epoch 15:\n",
      "Training loss: 0.109757678313 Validation loss: 0.110322386479 Test loss: 0.109649127469\n",
      "\n",
      "End of epoch 16:\n",
      "Training loss: 0.109376511228 Validation loss: 0.110042293929 Test loss: 0.109370564678\n",
      "\n",
      "End of epoch 17:\n",
      "Training loss: 0.109139654319 Validation loss: 0.10998877189 Test loss: 0.109288322932\n",
      "\n",
      "End of epoch 18:\n",
      "Training loss: 0.108796649738 Validation loss: 0.109842101733 Test loss: 0.108923839063\n",
      "\n",
      "End of epoch 19:\n",
      "Training loss: 0.108705057898 Validation loss: 0.109598374067 Test loss: 0.108746022033\n",
      "\n",
      "End of epoch 20:\n",
      "Training loss: 0.108403025751 Validation loss: 0.109560387725 Test loss: 0.108774371137\n",
      "\n",
      "End of epoch 21:\n",
      "Training loss: 0.108202405546 Validation loss: 0.109458136035 Test loss: 0.108761664712\n",
      "\n",
      "End of epoch 22:\n",
      "Training loss: 0.10817031042 Validation loss: 0.109078041613 Test loss: 0.10825961351\n",
      "\n",
      "End of epoch 23:\n",
      "Training loss: 0.107878104908 Validation loss: 0.109561274652 Test loss: 0.108762976139\n",
      "\n",
      "End of epoch 24:\n",
      "Training loss: 0.107792898813 Validation loss: 0.108974037652 Test loss: 0.108138215099\n",
      "\n",
      "End of epoch 25:\n",
      "Training loss: 0.107627416289 Validation loss: 0.108980703142 Test loss: 0.108289395185\n",
      "\n",
      "End of epoch 26:\n",
      "Training loss: 0.10749310239 Validation loss: 0.108839942609 Test loss: 0.108161345007\n",
      "\n",
      "End of epoch 27:\n",
      "Training loss: 0.107396701232 Validation loss: 0.108756198489 Test loss: 0.108057402117\n",
      "\n",
      "End of epoch 28:\n",
      "Training loss: 0.10723777426 Validation loss: 0.108451857921 Test loss: 0.10796491723\n",
      "\n",
      "End of epoch 29:\n",
      "Training loss: 0.107162764689 Validation loss: 0.108650800385 Test loss: 0.107805101426\n",
      "\n",
      "End of epoch 30:\n",
      "Training loss: 0.107019777661 Validation loss: 0.10851135209 Test loss: 0.107696158545\n",
      "\n",
      "End of epoch 31:\n",
      "Training loss: 0.106878575972 Validation loss: 0.108344927563 Test loss: 0.107453915039\n",
      "\n",
      "End of epoch 32:\n",
      "Training loss: 0.106857252449 Validation loss: 0.108542612309 Test loss: 0.107623348618\n",
      "\n",
      "End of epoch 33:\n",
      "Training loss: 0.106811923559 Validation loss: 0.108125489086 Test loss: 0.107580348748\n",
      "\n",
      "End of epoch 34:\n",
      "Training loss: 0.106590388299 Validation loss: 0.108452240564 Test loss: 0.107605385132\n",
      "\n",
      "End of epoch 35:\n",
      "Training loss: 0.106607354562 Validation loss: 0.108391483999 Test loss: 0.107361206704\n",
      "\n",
      "End of epoch 36:\n",
      "Training loss: 0.106526397976 Validation loss: 0.108343689932 Test loss: 0.10741577917\n",
      "\n",
      "End of epoch 37:\n",
      "Training loss: 0.106341291264 Validation loss: 0.108218457735 Test loss: 0.107347157038\n",
      "\n",
      "End of epoch 38:\n",
      "Training loss: 0.106390773456 Validation loss: 0.108162058828 Test loss: 0.107443007607\n",
      "\n",
      "End of epoch 39:\n",
      "Training loss: 0.106210660667 Validation loss: 0.107998444733 Test loss: 0.107171119413\n",
      "\n",
      "End of epoch 40:\n",
      "Training loss: 0.106199203646 Validation loss: 0.107979832115 Test loss: 0.107033371364\n",
      "\n",
      "End of epoch 41:\n",
      "Training loss: 0.10618092798 Validation loss: 0.107959832027 Test loss: 0.107306003882\n",
      "\n",
      "End of epoch 42:\n",
      "Training loss: 0.106042798235 Validation loss: 0.107819969588 Test loss: 0.107181817808\n",
      "\n",
      "End of epoch 43:\n",
      "Training loss: 0.106063837153 Validation loss: 0.108257301499 Test loss: 0.107317760563\n",
      "\n",
      "End of epoch 44:\n",
      "Training loss: 0.105997604822 Validation loss: 0.107713670833 Test loss: 0.107087542161\n",
      "\n",
      "End of epoch 45:\n",
      "Training loss: 0.105914306228 Validation loss: 0.107677401828 Test loss: 0.107359661163\n",
      "\n",
      "End of epoch 46:\n",
      "Training loss: 0.105915809427 Validation loss: 0.107792053779 Test loss: 0.107082939535\n",
      "\n",
      "End of epoch 47:\n",
      "Training loss: 0.105826263764 Validation loss: 0.107749752509 Test loss: 0.107282218479\n",
      "\n",
      "End of epoch 48:\n",
      "Training loss: 0.105757821207 Validation loss: 0.107726132165 Test loss: 0.106979387584\n",
      "\n",
      "End of epoch 49:\n",
      "Training loss: 0.105733735858 Validation loss: 0.107874739301 Test loss: 0.10714014234\n",
      "\n",
      "End of epoch 50:\n",
      "Training loss: 0.105637791119 Validation loss: 0.10755334513 Test loss: 0.107147726259\n",
      "\n",
      "End of epoch 51:\n",
      "Training loss: 0.105612395135 Validation loss: 0.10742977076 Test loss: 0.106852538357\n",
      "\n",
      "End of epoch 52:\n",
      "Training loss: 0.105563108761 Validation loss: 0.107496081005 Test loss: 0.106864109019\n",
      "\n",
      "End of epoch 53:\n",
      "Training loss: 0.10553713468 Validation loss: 0.107365391879 Test loss: 0.107108318201\n",
      "\n",
      "End of epoch 54:\n",
      "Training loss: 0.105488826053 Validation loss: 0.107560380786 Test loss: 0.106594937438\n",
      "\n",
      "End of epoch 55:\n",
      "Training loss: 0.105477071069 Validation loss: 0.107655483662 Test loss: 0.107039326526\n",
      "\n",
      "End of epoch 56:\n",
      "Training loss: 0.105488370893 Validation loss: 0.107784948007 Test loss: 0.107109042002\n",
      "\n",
      "End of epoch 57:\n",
      "Training loss: 0.105351542009 Validation loss: 0.107491808871 Test loss: 0.106663459574\n",
      "\n",
      "End of epoch 58:\n",
      "Training loss: 0.105353576876 Validation loss: 0.107852856318 Test loss: 0.107304982775\n",
      "\n",
      "End of epoch 59:\n",
      "Training loss: 0.105336770841 Validation loss: 0.10743955584 Test loss: 0.106701388214\n",
      "\n",
      "End of epoch 60:\n",
      "Training loss: 0.105209716917 Validation loss: 0.107363988316 Test loss: 0.106817067699\n",
      "\n",
      "End of epoch 61:\n",
      "Training loss: 0.105193648916 Validation loss: 0.107096869742 Test loss: 0.106823869989\n",
      "\n",
      "End of epoch 62:\n",
      "Training loss: 0.105153769455 Validation loss: 0.107173309908 Test loss: 0.106625374857\n",
      "\n",
      "End of epoch 63:\n",
      "Training loss: 0.1051718717 Validation loss: 0.107404046193 Test loss: 0.106641764918\n",
      "\n",
      "End of epoch 64:\n",
      "Training loss: 0.105143880555 Validation loss: 0.107236218228 Test loss: 0.106788363898\n",
      "\n",
      "End of epoch 65:\n",
      "Training loss: 0.10502398845 Validation loss: 0.107488086933 Test loss: 0.106686904941\n",
      "\n",
      "End of epoch 66:\n",
      "Training loss: 0.105034411883 Validation loss: 0.107553409445 Test loss: 0.106546277903\n",
      "\n",
      "End of epoch 67:\n",
      "Training loss: 0.104994793743 Validation loss: 0.107476588196 Test loss: 0.106839922883\n",
      "\n",
      "End of epoch 68:\n",
      "Training loss: 0.105066470879 Validation loss: 0.107317684709 Test loss: 0.106718145946\n",
      "\n",
      "End of epoch 69:\n",
      "Training loss: 0.105017987184 Validation loss: 0.107307350991 Test loss: 0.106636178924\n",
      "\n",
      "End of epoch 70:\n",
      "Training loss: 0.104972853184 Validation loss: 0.107281490435 Test loss: 0.10654215255\n",
      "\n",
      "End of epoch 71:\n",
      "Training loss: 0.104970338006 Validation loss: 0.107455696191 Test loss: 0.106600564291\n",
      "\n",
      "End of epoch 72:\n",
      "Training loss: 0.104853871385 Validation loss: 0.107430900035 Test loss: 0.106654682439\n",
      "\n",
      "End of epoch 73:\n",
      "Training loss: 0.104978755627 Validation loss: 0.107313423304 Test loss: 0.106684001811\n",
      "\n",
      "End of epoch 74:\n",
      "Training loss: 0.104786896991 Validation loss: 0.107245407511 Test loss: 0.106609168507\n",
      "\n",
      "End of epoch 75:\n",
      "Training loss: 0.104790094404 Validation loss: 0.107392398242 Test loss: 0.106701497817\n",
      "\n",
      "End of epoch 76:\n",
      "Training loss: 0.10485651811 Validation loss: 0.107009354279 Test loss: 0.10659130458\n",
      "\n",
      "End of epoch 77:\n",
      "Training loss: 0.104732551703 Validation loss: 0.107306111489 Test loss: 0.106530966839\n",
      "\n",
      "End of epoch 78:\n",
      "Training loss: 0.104719648985 Validation loss: 0.106938971206 Test loss: 0.106368854244\n",
      "\n",
      "End of epoch 79:\n",
      "Training loss: 0.104690114926 Validation loss: 0.107046987236 Test loss: 0.106733744211\n",
      "\n",
      "End of epoch 80:\n",
      "Training loss: 0.104693965766 Validation loss: 0.107073026138 Test loss: 0.1065864951\n",
      "\n",
      "End of epoch 81:\n",
      "Training loss: 0.104679080133 Validation loss: 0.1071187594 Test loss: 0.106515954203\n",
      "\n",
      "End of epoch 82:\n",
      "Training loss: 0.104672488562 Validation loss: 0.107191765078 Test loss: 0.106635648876\n",
      "\n",
      "End of epoch 83:\n",
      "Training loss: 0.10460401803 Validation loss: 0.107236756198 Test loss: 0.106409167944\n",
      "\n",
      "End of epoch 84:\n",
      "Training loss: 0.104575539167 Validation loss: 0.106906076428 Test loss: 0.106501075873\n",
      "\n",
      "End of epoch 85:\n",
      "Training loss: 0.104582338073 Validation loss: 0.107071862802 Test loss: 0.10646352345\n",
      "\n",
      "End of epoch 86:\n",
      "Training loss: 0.104671999973 Validation loss: 0.107182028904 Test loss: 0.106543058004\n",
      "\n",
      "End of epoch 87:\n",
      "Training loss: 0.104549657099 Validation loss: 0.107193889885 Test loss: 0.106580153178\n",
      "\n",
      "End of epoch 88:\n",
      "Training loss: 0.10454896667 Validation loss: 0.107042296091 Test loss: 0.106500181336\n",
      "\n",
      "End of epoch 89:\n",
      "Training loss: 0.104584194771 Validation loss: 0.10696546873 Test loss: 0.106412416537\n",
      "\n",
      "End of epoch 90:\n",
      "Training loss: 0.104467792089 Validation loss: 0.106867540138 Test loss: 0.106314046728\n",
      "\n",
      "End of epoch 91:\n",
      "Training loss: 0.104389078479 Validation loss: 0.107042791455 Test loss: 0.10643391956\n",
      "\n",
      "End of epoch 92:\n",
      "Training loss: 0.10443310864 Validation loss: 0.106948668516 Test loss: 0.106388912533\n",
      "\n",
      "End of epoch 93:\n",
      "Training loss: 0.104442797195 Validation loss: 0.10679864297 Test loss: 0.106342490215\n",
      "\n",
      "End of epoch 94:\n",
      "Training loss: 0.104467511264 Validation loss: 0.106806576283 Test loss: 0.106572423413\n",
      "\n",
      "End of epoch 95:\n",
      "Training loss: 0.10443863113 Validation loss: 0.106966416415 Test loss: 0.106353390909\n",
      "\n",
      "End of epoch 96:\n",
      "Training loss: 0.104332731906 Validation loss: 0.106850075822 Test loss: 0.106230006986\n",
      "\n",
      "End of epoch 97:\n",
      "Training loss: 0.104312666249 Validation loss: 0.106921171281 Test loss: 0.10621793335\n",
      "\n",
      "End of epoch 98:\n",
      "Training loss: 0.104401082118 Validation loss: 0.106956302215 Test loss: 0.106264048943\n",
      "\n",
      "End of epoch 99:\n",
      "Training loss: 0.104324189659 Validation loss: 0.106921361292 Test loss: 0.106364474441\n",
      "\n",
      "End of epoch 100:\n",
      "Training loss: 0.104398121248 Validation loss: 0.106780973546 Test loss: 0.106311964901\n",
      "\n",
      "End of epoch 101:\n",
      "Training loss: 0.104239664081 Validation loss: 0.106819644952 Test loss: 0.106291002905\n",
      "\n",
      "End of epoch 102:\n",
      "Training loss: 0.104265876158 Validation loss: 0.106827857917 Test loss: 0.106317136002\n",
      "\n",
      "End of epoch 103:\n",
      "Training loss: 0.104298189887 Validation loss: 0.106876652382 Test loss: 0.106320551152\n",
      "\n",
      "End of epoch 104:\n",
      "Training loss: 0.104307791233 Validation loss: 0.106996286608 Test loss: 0.10641591353\n",
      "\n",
      "End of epoch 105:\n",
      "Training loss: 0.104322325305 Validation loss: 0.106970025257 Test loss: 0.106363018603\n",
      "\n",
      "End of epoch 106:\n",
      "Training loss: 0.104226395531 Validation loss: 0.106881470408 Test loss: 0.106422314152\n",
      "\n",
      "End of epoch 107:\n",
      "Training loss: 0.104294485003 Validation loss: 0.106866625826 Test loss: 0.106229330719\n",
      "\n",
      "End of epoch 108:\n",
      "Training loss: 0.104294451725 Validation loss: 0.106686036291 Test loss: 0.10631887642\n",
      "\n",
      "End of epoch 109:\n",
      "Training loss: 0.104098771582 Validation loss: 0.106949137805 Test loss: 0.106575625034\n",
      "\n",
      "End of epoch 110:\n",
      "Training loss: 0.10414221966 Validation loss: 0.106921795025 Test loss: 0.10639319627\n",
      "\n",
      "End of epoch 111:\n",
      "Training loss: 0.104198649303 Validation loss: 0.106558142814 Test loss: 0.106001902662\n",
      "\n",
      "End of epoch 112:\n",
      "Training loss: 0.104127622701 Validation loss: 0.107097880245 Test loss: 0.106337188427\n",
      "\n",
      "End of epoch 113:\n",
      "Training loss: 0.104089931289 Validation loss: 0.106872906677 Test loss: 0.106252163072\n",
      "\n",
      "End of epoch 114:\n",
      "Training loss: 0.104145328729 Validation loss: 0.106628586646 Test loss: 0.106245934183\n",
      "\n",
      "End of epoch 115:\n",
      "Training loss: 0.104071202526 Validation loss: 0.10677059061 Test loss: 0.106296650095\n",
      "\n",
      "End of epoch 116:\n",
      "Training loss: 0.104129672961 Validation loss: 0.106998176427 Test loss: 0.106297725099\n",
      "\n",
      "End of epoch 117:\n",
      "Training loss: 0.104064908046 Validation loss: 0.106744208491 Test loss: 0.105938639708\n",
      "\n",
      "End of epoch 118:\n",
      "Training loss: 0.104062012721 Validation loss: 0.106894828336 Test loss: 0.106455592633\n",
      "\n",
      "End of epoch 119:\n",
      "Training loss: 0.104046110761 Validation loss: 0.106546042291 Test loss: 0.106222357817\n",
      "\n",
      "End of epoch 120:\n",
      "Training loss: 0.10412974061 Validation loss: 0.106767311762 Test loss: 0.106365624989\n",
      "\n",
      "End of epoch 121:\n",
      "Training loss: 0.103994690974 Validation loss: 0.106735644198 Test loss: 0.106137923393\n",
      "\n",
      "End of epoch 122:\n",
      "Training loss: 0.103986860654 Validation loss: 0.106698910582 Test loss: 0.106045442873\n",
      "\n",
      "End of epoch 123:\n",
      "Training loss: 0.104014996206 Validation loss: 0.106695542156 Test loss: 0.10612080847\n",
      "\n",
      "End of epoch 124:\n",
      "Training loss: 0.104059871999 Validation loss: 0.10689682202 Test loss: 0.106272820027\n",
      "\n",
      "End of epoch 125:\n",
      "Training loss: 0.103959817064 Validation loss: 0.106765247714 Test loss: 0.105982199444\n",
      "\n",
      "End of epoch 126:\n",
      "Training loss: 0.103909323793 Validation loss: 0.106733398497 Test loss: 0.106248893456\n",
      "\n",
      "End of epoch 127:\n",
      "Training loss: 0.103945569203 Validation loss: 0.106850036148 Test loss: 0.106152325448\n",
      "\n",
      "End of epoch 128:\n",
      "Training loss: 0.104054612795 Validation loss: 0.106592430612 Test loss: 0.106223151111\n",
      "\n",
      "End of epoch 129:\n",
      "Training loss: 0.103934155731 Validation loss: 0.106938242725 Test loss: 0.106259089998\n",
      "\n",
      "End of epoch 130:\n",
      "Training loss: 0.103884496381 Validation loss: 0.106568242417 Test loss: 0.106352245165\n",
      "\n",
      "End of epoch 131:\n",
      "Training loss: 0.103967294674 Validation loss: 0.106614207672 Test loss: 0.106191139643\n",
      "\n",
      "End of epoch 132:\n",
      "Training loss: 0.103802879237 Validation loss: 0.106767125931 Test loss: 0.106435568341\n",
      "\n",
      "End of epoch 133:\n",
      "Training loss: 0.103974336989 Validation loss: 0.106680292911 Test loss: 0.105918777357\n",
      "\n",
      "End of epoch 134:\n",
      "Training loss: 0.103839576457 Validation loss: 0.106700706395 Test loss: 0.106042996119\n",
      "\n",
      "End of epoch 135:\n",
      "Training loss: 0.103830585778 Validation loss: 0.106806749576 Test loss: 0.106261598197\n",
      "\n",
      "End of epoch 136:\n",
      "Training loss: 0.103756331365 Validation loss: 0.106582925433 Test loss: 0.105947866295\n",
      "\n",
      "End of epoch 137:\n",
      "Training loss: 0.103837921598 Validation loss: 0.106810084255 Test loss: 0.106109901413\n",
      "\n",
      "End of epoch 138:\n",
      "Training loss: 0.103810385045 Validation loss: 0.106703207731 Test loss: 0.106066728749\n",
      "\n",
      "End of epoch 139:\n",
      "Training loss: 0.103746993803 Validation loss: 0.106735428985 Test loss: 0.105992519874\n",
      "\n",
      "End of epoch 140:\n",
      "Training loss: 0.103711444844 Validation loss: 0.10679953495 Test loss: 0.106270966325\n",
      "\n",
      "End of epoch 141:\n",
      "Training loss: 0.103827776181 Validation loss: 0.106775357734 Test loss: 0.106273106728\n",
      "\n",
      "End of epoch 142:\n",
      "Training loss: 0.103827961367 Validation loss: 0.106579232004 Test loss: 0.106125842146\n",
      "\n",
      "End of epoch 143:\n",
      "Training loss: 0.10370984422 Validation loss: 0.106591079074 Test loss: 0.105823430573\n",
      "\n",
      "End of epoch 144:\n",
      "Training loss: 0.103811278019 Validation loss: 0.106583970807 Test loss: 0.106057319948\n",
      "\n",
      "End of epoch 145:\n",
      "Training loss: 0.103781634022 Validation loss: 0.106850704306 Test loss: 0.106036692312\n",
      "\n",
      "End of epoch 146:\n",
      "Training loss: 0.103749941896 Validation loss: 0.106558075755 Test loss: 0.106083591904\n",
      "\n",
      "End of epoch 147:\n",
      "Training loss: 0.103696628077 Validation loss: 0.106797324994 Test loss: 0.105764582855\n",
      "\n",
      "End of epoch 148:\n",
      "Training loss: 0.103833451051 Validation loss: 0.106620613472 Test loss: 0.10605229382\n",
      "\n",
      "End of epoch 149:\n",
      "Training loss: 0.103743821141 Validation loss: 0.106512441678 Test loss: 0.105834898682\n",
      "\n",
      "End of epoch 150:\n",
      "Training loss: 0.103714455865 Validation loss: 0.106468709522 Test loss: 0.106049849\n",
      "\n",
      "End of epoch 151:\n",
      "Training loss: 0.103636503476 Validation loss: 0.106650280304 Test loss: 0.105878412006\n",
      "\n",
      "End of epoch 152:\n",
      "Training loss: 0.103615085573 Validation loss: 0.106378949481 Test loss: 0.106200066616\n",
      "\n",
      "End of epoch 153:\n",
      "Training loss: 0.103603264824 Validation loss: 0.106763380913 Test loss: 0.106126656275\n",
      "\n",
      "End of epoch 154:\n",
      "Training loss: 0.10373768329 Validation loss: 0.106484522999 Test loss: 0.106064689527\n",
      "\n",
      "End of epoch 155:\n",
      "Training loss: 0.103673350196 Validation loss: 0.106542889577 Test loss: 0.106036739659\n",
      "\n",
      "End of epoch 156:\n",
      "Training loss: 0.103570068239 Validation loss: 0.106635437905 Test loss: 0.105861822515\n",
      "\n",
      "End of epoch 157:\n",
      "Training loss: 0.103586328515 Validation loss: 0.106333538789 Test loss: 0.105744614893\n",
      "\n",
      "End of epoch 158:\n",
      "Training loss: 0.103665347964 Validation loss: 0.106616992841 Test loss: 0.105881145087\n",
      "\n",
      "End of epoch 159:\n",
      "Training loss: 0.103611072899 Validation loss: 0.106496835553 Test loss: 0.10608462842\n",
      "\n",
      "End of epoch 160:\n",
      "Training loss: 0.103591286019 Validation loss: 0.106302973926 Test loss: 0.10621788775\n",
      "\n",
      "End of epoch 161:\n",
      "Training loss: 0.103614241851 Validation loss: 0.106434146937 Test loss: 0.106234181557\n",
      "\n",
      "End of epoch 162:\n",
      "Training loss: 0.103657643542 Validation loss: 0.106711676332 Test loss: 0.106065659358\n",
      "\n",
      "End of epoch 163:\n",
      "Training loss: 0.103554765763 Validation loss: 0.106632248698 Test loss: 0.105896189536\n",
      "\n",
      "End of epoch 164:\n",
      "Training loss: 0.103496881923 Validation loss: 0.106575350559 Test loss: 0.106067720787\n",
      "\n",
      "End of epoch 165:\n",
      "Training loss: 0.103539105233 Validation loss: 0.10680939601 Test loss: 0.105891960195\n",
      "\n",
      "End of epoch 166:\n",
      "Training loss: 0.103591225928 Validation loss: 0.106546269793 Test loss: 0.105832825962\n",
      "\n",
      "End of epoch 167:\n",
      "Training loss: 0.103586470859 Validation loss: 0.106515846659 Test loss: 0.105897503209\n",
      "\n",
      "End of epoch 168:\n",
      "Training loss: 0.103571136974 Validation loss: 0.106315061286 Test loss: 0.105812342051\n",
      "\n",
      "End of epoch 169:\n",
      "Training loss: 0.103580184781 Validation loss: 0.106524336719 Test loss: 0.106008360986\n",
      "\n",
      "End of epoch 170:\n",
      "Training loss: 0.10348030508 Validation loss: 0.10645466441 Test loss: 0.105824952597\n",
      "\n",
      "End of epoch 171:\n",
      "Training loss: 0.103572105169 Validation loss: 0.10660788827 Test loss: 0.106026514047\n",
      "\n",
      "End of epoch 172:\n",
      "Training loss: 0.103570132178 Validation loss: 0.106446533163 Test loss: 0.105704395762\n",
      "\n",
      "End of epoch 173:\n",
      "Training loss: 0.103501978241 Validation loss: 0.106625832044 Test loss: 0.106126795134\n",
      "\n",
      "End of epoch 174:\n",
      "Training loss: 0.103538658185 Validation loss: 0.106516080773 Test loss: 0.106304685337\n",
      "\n",
      "End of epoch 175:\n",
      "Training loss: 0.103509605974 Validation loss: 0.1065091715 Test loss: 0.106176252268\n",
      "\n",
      "End of epoch 176:\n",
      "Training loss: 0.103529505783 Validation loss: 0.1066034522 Test loss: 0.105980587717\n",
      "\n",
      "End of epoch 177:\n",
      "Training loss: 0.103473801576 Validation loss: 0.106492031001 Test loss: 0.106142951331\n",
      "\n",
      "End of epoch 178:\n",
      "Training loss: 0.103449226419 Validation loss: 0.106781348017 Test loss: 0.1059285494\n",
      "\n",
      "End of epoch 179:\n",
      "Training loss: 0.103526370136 Validation loss: 0.106357654934 Test loss: 0.105844419767\n",
      "\n",
      "End of epoch 180:\n",
      "Training loss: 0.103438020185 Validation loss: 0.106497320001 Test loss: 0.106002429591\n",
      "\n",
      "End of epoch 181:\n",
      "Training loss: 0.103544723182 Validation loss: 0.106711351828 Test loss: 0.105890109176\n",
      "\n",
      "End of epoch 182:\n",
      "Training loss: 0.103346954988 Validation loss: 0.106581063435 Test loss: 0.105576462112\n",
      "\n",
      "End of epoch 183:\n",
      "Training loss: 0.103525084806 Validation loss: 0.10672686382 Test loss: 0.105982378538\n",
      "\n",
      "End of epoch 184:\n",
      "Training loss: 0.103388667062 Validation loss: 0.106585163836 Test loss: 0.106296082057\n",
      "\n",
      "End of epoch 185:\n",
      "Training loss: 0.103456959093 Validation loss: 0.106705630219 Test loss: 0.105825835095\n",
      "\n",
      "End of epoch 186:\n",
      "Training loss: 0.103470958507 Validation loss: 0.106490040998 Test loss: 0.105922724052\n",
      "\n",
      "End of epoch 187:\n",
      "Training loss: 0.10336032956 Validation loss: 0.106453363837 Test loss: 0.105735008596\n",
      "\n",
      "End of epoch 188:\n",
      "Training loss: 0.103392458531 Validation loss: 0.106659246639 Test loss: 0.106031743536\n",
      "\n",
      "End of epoch 189:\n",
      "Training loss: 0.103328405362 Validation loss: 0.106486554548 Test loss: 0.105960404043\n",
      "\n",
      "End of epoch 190:\n",
      "Training loss: 0.103400861742 Validation loss: 0.106441174048 Test loss: 0.10582604301\n",
      "\n",
      "End of epoch 191:\n",
      "Training loss: 0.103433696854 Validation loss: 0.106406603354 Test loss: 0.105929355419\n",
      "\n",
      "End of epoch 192:\n",
      "Training loss: 0.103345855039 Validation loss: 0.106387288579 Test loss: 0.105541621185\n",
      "\n",
      "End of epoch 193:\n",
      "Training loss: 0.103358680556 Validation loss: 0.106561515607 Test loss: 0.106006687876\n",
      "\n",
      "End of epoch 194:\n",
      "Training loss: 0.103392529447 Validation loss: 0.106336011804 Test loss: 0.105943049454\n",
      "\n",
      "End of epoch 195:\n",
      "Training loss: 0.103368026949 Validation loss: 0.106614030574 Test loss: 0.105883813541\n",
      "\n",
      "End of epoch 196:\n",
      "Training loss: 0.103418088234 Validation loss: 0.106581752678 Test loss: 0.105767610995\n",
      "\n",
      "End of epoch 197:\n",
      "Training loss: 0.103395609682 Validation loss: 0.106685871107 Test loss: 0.106069909285\n",
      "\n",
      "End of epoch 198:\n",
      "Training loss: 0.103384586752 Validation loss: 0.106506238989 Test loss: 0.105846573145\n",
      "\n",
      "End of epoch 199:\n",
      "Training loss: 0.103354502545 Validation loss: 0.106594087128 Test loss: 0.106074811899\n",
      "\n",
      "End of epoch 200:\n",
      "Training loss: 0.103283040315 Validation loss: 0.106333064634 Test loss: 0.106038990288\n",
      "\n"
     ]
    }
   ],
   "source": [
    "sess = tf.Session()\n",
    "sess.run(tf.initialize_all_variables())\n",
    "\n",
    "for i in range(200):\n",
    "    train_loss = []\n",
    "    valid_loss = []\n",
    "    test_loss  = []\n",
    "\n",
    "    for j in range(len(train_X)/batch_size):\n",
    "        start = j * batch_size\n",
    "        end   = (j+1) * batch_size\n",
    "        loss_, _ = sess.run([loss, train_op], feed_dict={input_: train_X[start:end]})\n",
    "\n",
    "        train_loss.append(loss_/(batch_size * 784))\n",
    "\n",
    "    for j in range(len(valid_X)/batch_size):\n",
    "        start = j * batch_size\n",
    "        end   = (j+1) * batch_size\n",
    "        loss_ = sess.run(loss, feed_dict={input_: valid_X[start:end]})\n",
    "\n",
    "        valid_loss.append(loss_/(batch_size * 784))\n",
    "\n",
    "    for j in range(len(test_X)/batch_size):\n",
    "        start = j * batch_size\n",
    "        end   = (j+1) * batch_size\n",
    "        loss_ = sess.run(loss, feed_dict={input_: test_X[start:end]})\n",
    "\n",
    "        test_loss.append(loss_/(batch_size * 784))\n",
    "\n",
    "    print 'End of epoch %d:' % (i+1)\n",
    "    print 'Training loss:', np.mean(train_loss), \\\n",
    "          'Validation loss:', np.mean(valid_loss), \\\n",
    "          'Test loss:', np.mean(test_loss)\n",
    "    print"
   ]
  },
  {
   "cell_type": "markdown",
   "metadata": {},
   "source": [
    "# Demonstration"
   ]
  },
  {
   "cell_type": "code",
   "execution_count": 37,
   "metadata": {
    "collapsed": false
   },
   "outputs": [],
   "source": [
    "#from matplotlib.pyplot import imshow\n",
    "from matplotlib import pyplot as plt"
   ]
  },
  {
   "cell_type": "code",
   "execution_count": 36,
   "metadata": {
    "collapsed": false
   },
   "outputs": [],
   "source": [
    "# Sample from the network\n",
    "start   = random.sample(test_X, 1)[0]\n",
    "samples = [start]\n",
    "\n",
    "for _ in range(8000):\n",
    "    samples.append(sess.run(output, feed_dict={input_: np.reshape(samples[-1], (1, 784))}))"
   ]
  },
  {
   "cell_type": "code",
   "execution_count": 38,
   "metadata": {
    "collapsed": false
   },
   "outputs": [
    {
     "data": {
      "image/png": "[encoded data removed]",
      "text/plain": [
       "<matplotlib.figure.Figure at 0x7fd708eb1510>"
      ]
     },
     "metadata": {},
     "output_type": "display_data"
    },
    {
     "data": {
      "image/png": "[encoded data removed]",
      "text/plain": [
       "<matplotlib.figure.Figure at 0x7fd703521910>"
      ]
     },
     "metadata": {},
     "output_type": "display_data"
    },
    {
     "data": {
      "image/png": "[encoded data removed]",
      "text/plain": [
       "<matplotlib.figure.Figure at 0x7fd707750550>"
      ]
     },
     "metadata": {},
     "output_type": "display_data"
    },
    {
     "data": {
      "image/png": "[encoded data removed]",
      "text/plain": [
       "<matplotlib.figure.Figure at 0x7fd70368f610>"
      ]
     },
     "metadata": {},
     "output_type": "display_data"
    },
    {
     "data": {
      "image/png": "[encoded data removed]",
      "text/plain": [
       "<matplotlib.figure.Figure at 0x7fd70718f150>"
      ]
     },
     "metadata": {},
     "output_type": "display_data"
    },
    {
     "data": {
      "image/png": "[encoded data removed]",
      "text/plain": [
       "<matplotlib.figure.Figure at 0x7fd705f06390>"
      ]
     },
     "metadata": {},
     "output_type": "display_data"
    },
    {
     "data": {
      "image/png": "[encoded data removed]",
      "text/plain": [
       "<matplotlib.figure.Figure at 0x7fd7078b1790>"
      ]
     },
     "metadata": {},
     "output_type": "display_data"
    },
    {
     "data": {
      "image/png": "[encoded data removed]",
      "text/plain": [
       "<matplotlib.figure.Figure at 0x7fd70874a110>"
      ]
     },
     "metadata": {},
     "output_type": "display_data"
    },
    {
     "data": {
      "image/png": "[encoded data removed]",
      "text/plain": [
       "<matplotlib.figure.Figure at 0x7fd7060b2d50>"
      ]
     },
     "metadata": {},
     "output_type": "display_data"
    },
    {
     "data": {
      "image/png": "[encoded data removed]",
      "text/plain": [
       "<matplotlib.figure.Figure at 0x7fd708d348d0>"
      ]
     },
     "metadata": {},
     "output_type": "display_data"
    },
    {
     "data": {
      "image/png": "[encoded data removed]",
      "text/plain": [
       "<matplotlib.figure.Figure at 0x7fd7052d9450>"
      ]
     },
     "metadata": {},
     "output_type": "display_data"
    },
    {
     "data": {
      "image/png": "[encoded data removed]",
      "text/plain": [
       "<matplotlib.figure.Figure at 0x7fd707bd1e10>"
      ]
     },
     "metadata": {},
     "output_type": "display_data"
    },
    {
     "data": {
      "image/png": "[encoded data removed]",
      "text/plain": [
       "<matplotlib.figure.Figure at 0x7fd70794fa90>"
      ]
     },
     "metadata": {},
     "output_type": "display_data"
    },
    {
     "data": {
      "image/png": "[encoded data removed]",
      "text/plain": [
       "<matplotlib.figure.Figure at 0x7fd707f0fcd0>"
      ]
     },
     "metadata": {},
     "output_type": "display_data"
    },
    {
     "data": {
      "image/png": "[encoded data removed]",
      "text/plain": [
       "<matplotlib.figure.Figure at 0x7fd7093fc3d0>"
      ]
     },
     "metadata": {},
     "output_type": "display_data"
    },
    {
     "data": {
      "image/png": "[encoded data removed]",
      "text/plain": [
       "<matplotlib.figure.Figure at 0x7fd707cb2cd0>"
      ]
     },
     "metadata": {},
     "output_type": "display_data"
    },
    {
     "data": {
      "image/png": "[encoded data removed]",
      "text/plain": [
       "<matplotlib.figure.Figure at 0x7fd7056ac210>"
      ]
     },
     "metadata": {},
     "output_type": "display_data"
    },
    {
     "data": {
      "image/png": "[encoded data removed]",
      "text/plain": [
       "<matplotlib.figure.Figure at 0x7fd7089d2ed0>"
      ]
     },
     "metadata": {},
     "output_type": "display_data"
    },
    {
     "data": {
      "image/png": "[encoded data removed]",
      "text/plain": [
       "<matplotlib.figure.Figure at 0x7fd7064436d0>"
      ]
     },
     "metadata": {},
     "output_type": "display_data"
    },
    {
     "data": {
      "image/png": "[encoded data removed]",
      "text/plain": [
       "<matplotlib.figure.Figure at 0x7fd706f71e90>"
      ]
     },
     "metadata": {},
     "output_type": "display_data"
    },
    {
     "data": {
      "image/png": "[encoded data removed]",
      "text/plain": [
       "<matplotlib.figure.Figure at 0x7fd706a87850>"
      ]
     },
     "metadata": {},
     "output_type": "display_data"
    },
    {
     "data": {
      "image/png": "[encoded data removed]",
      "text/plain": [
       "<matplotlib.figure.Figure at 0x7fd708da1810>"
      ]
     },
     "metadata": {},
     "output_type": "display_data"
    },
    {
     "data": {
      "image/png": "[encoded data removed]",
      "text/plain": [
       "<matplotlib.figure.Figure at 0x7fd70358cd90>"
      ]
     },
     "metadata": {},
     "output_type": "display_data"
    },
    {
     "data": {
      "image/png": "[encoded data removed]",
      "text/plain": [
       "<matplotlib.figure.Figure at 0x7fd705a5fa10>"
      ]
     },
     "metadata": {},
     "output_type": "display_data"
    },
    {
     "data": {
      "image/png": "[encoded data removed]",
      "text/plain": [
       "<matplotlib.figure.Figure at 0x7fd705a3e850>"
      ]
     },
     "metadata": {},
     "output_type": "display_data"
    },
    {
     "data": {
      "image/png": "[encoded data removed]",
      "text/plain": [
       "<matplotlib.figure.Figure at 0x7fd70855bbd0>"
      ]
     },
     "metadata": {},
     "output_type": "display_data"
    },
    {
     "data": {
      "image/png": "[encoded data removed]",
      "text/plain": [
       "<matplotlib.figure.Figure at 0x7fd705421e90>"
      ]
     },
     "metadata": {},
     "output_type": "display_data"
    },
    {
     "data": {
      "image/png": "[encoded data removed]",
      "text/plain": [
       "<matplotlib.figure.Figure at 0x7fd70364d5d0>"
      ]
     },
     "metadata": {},
     "output_type": "display_data"
    },
    {
     "data": {
      "image/png": "[encoded data removed]",
      "text/plain": [
       "<matplotlib.figure.Figure at 0x7fd70804c710>"
      ]
     },
     "metadata": {},
     "output_type": "display_data"
    },
    {
     "data": {
      "image/png": "[encoded data removed]",
      "text/plain": [
       "<matplotlib.figure.Figure at 0x7fd7060f2d10>"
      ]
     },
     "metadata": {},
     "output_type": "display_data"
    },
    {
     "data": {
      "image/png": "[encoded data removed]",
      "text/plain": [
       "<matplotlib.figure.Figure at 0x7fd70635c990>"
      ]
     },
     "metadata": {},
     "output_type": "display_data"
    },
    {
     "data": {
      "image/png": "[encoded data removed]",
      "text/plain": [
       "<matplotlib.figure.Figure at 0x7fd7076cb510>"
      ]
     },
     "metadata": {},
     "output_type": "display_data"
    },
    {
     "data": {
      "image/png": "[encoded data removed]",
      "text/plain": [
       "<matplotlib.figure.Figure at 0x7fd7038bce90>"
      ]
     },
     "metadata": {},
     "output_type": "display_data"
    },
    {
     "data": {
      "image/png": "[encoded data removed]",
      "text/plain": [
       "<matplotlib.figure.Figure at 0x7fd705598790>"
      ]
     },
     "metadata": {},
     "output_type": "display_data"
    },
    {
     "data": {
      "image/png": "[encoded data removed]",
      "text/plain": [
       "<matplotlib.figure.Figure at 0x7fd705a50410>"
      ]
     },
     "metadata": {},
     "output_type": "display_data"
    },
    {
     "data": {
      "image/png": "[encoded data removed]",
      "text/plain": [
       "<matplotlib.figure.Figure at 0x7fd7050c6550>"
      ]
     },
     "metadata": {},
     "output_type": "display_data"
    },
    {
     "data": {
      "image/png": "[encoded data removed]",
      "text/plain": [
       "<matplotlib.figure.Figure at 0x7fd706adbf90>"
      ]
     },
     "metadata": {},
     "output_type": "display_data"
    },
    {
     "data": {
      "image/png": "[encoded data removed]",
      "text/plain": [
       "<matplotlib.figure.Figure at 0x7fd707245a90>"
      ]
     },
     "metadata": {},
     "output_type": "display_data"
    },
    {
     "data": {
      "image/png": "[encoded data removed]",
      "text/plain": [
       "<matplotlib.figure.Figure at 0x7fd705cfa6d0>"
      ]
     },
     "metadata": {},
     "output_type": "display_data"
    },
    {
     "data": {
      "image/png": "[encoded data removed]",
      "text/plain": [
       "<matplotlib.figure.Figure at 0x7fd705427910>"
      ]
     },
     "metadata": {},
     "output_type": "display_data"
    },
    {
     "data": {
      "image/png": "[encoded data removed]",
      "text/plain": [
       "<matplotlib.figure.Figure at 0x7fd708eaa450>"
      ]
     },
     "metadata": {},
     "output_type": "display_data"
    }
   ],
   "source": [
    "%matplotlib inline\n",
    "# Input\n",
    "for i, draw in enumerate(samples):\n",
    "    if i % 200 == 0:\n",
    "        plt.figure()\n",
    "        plt.imshow(np.reshape(draw, (28, 28)), interpolation='none', cmap='Greys_r')"
   ]
  }
 ],
 "metadata": {
  "kernelspec": {
   "display_name": "Python 2",
   "language": "python",
   "name": "python2"
  },
  "language_info": {
   "codemirror_mode": {
    "name": "ipython",
    "version": 2
   },
   "file_extension": ".py",
   "mimetype": "text/x-python",
   "name": "python",
   "nbconvert_exporter": "python",
   "pygments_lexer": "ipython2",
   "version": "2.7.11+"
  }
 },
 "nbformat": 4,
 "nbformat_minor": 0
}
