{
 "cells": [
  {
   "cell_type": "code",
   "execution_count": 1,
   "metadata": {
    "collapsed": true
   },
   "outputs": [],
   "source": [
    "import tensorflow as tf\n",
    "import input_data\n",
    "import numpy as np\n",
    "import random"
   ]
  },
  {
   "cell_type": "code",
   "execution_count": 2,
   "metadata": {
    "collapsed": true
   },
   "outputs": [],
   "source": [
    "hidden_size = 100"
   ]
  },
  {
   "cell_type": "code",
   "execution_count": 3,
   "metadata": {
    "collapsed": true
   },
   "outputs": [],
   "source": [
    "def get_weights(shape):\n",
    "    return tf.Variable(tf.random_normal(shape, stddev=0.01))\n",
    "\n",
    "def get_bias(shape):\n",
    "    return tf.Variable(np.zeros(shape), dtype=tf.float32)"
   ]
  },
  {
   "cell_type": "markdown",
   "metadata": {},
   "source": [
    "Input"
   ]
  },
  {
   "cell_type": "code",
   "execution_count": 4,
   "metadata": {
    "collapsed": true
   },
   "outputs": [],
   "source": [
    "input_ = tf.placeholder(tf.float32, [None, 784])"
   ]
  },
  {
   "cell_type": "markdown",
   "metadata": {},
   "source": [
    "Model"
   ]
  },
  {
   "cell_type": "code",
   "execution_count": 5,
   "metadata": {
    "collapsed": false
   },
   "outputs": [],
   "source": [
    "# Input layer to hidden layer\n",
    "W1 = get_weights([784, hidden_size])\n",
    "b1 = get_bias([hidden_size])\n",
    "\n",
    "# Hidden layer to output layer\n",
    "W2 = get_weights([hidden_size, 784])\n",
    "b2 = get_bias([784])\n",
    "\n",
    "# Activations\n",
    "hidden = tf.sigmoid(tf.matmul(input_, W1) + b1)\n",
    "output = tf.sigmoid(tf.matmul(hidden, W2) + b2)"
   ]
  },
  {
   "cell_type": "markdown",
   "metadata": {},
   "source": [
    "Loss and Optimizer"
   ]
  },
  {
   "cell_type": "code",
   "execution_count": 6,
   "metadata": {
    "collapsed": false
   },
   "outputs": [],
   "source": [
    "# Loss\n",
    "clipped_output         = tf.clip_by_value(output, 1e-10, 1.0)\n",
    "clipped_1_minus_output = tf.clip_by_value(1 - output, 1e-10, 1.0)\n",
    "\n",
    "loss = -tf.reduce_sum(input_ * tf.log(clipped_output) + (1 - input_) * tf.log(clipped_1_minus_output))"
   ]
  },
  {
   "cell_type": "code",
   "execution_count": 7,
   "metadata": {
    "collapsed": true
   },
   "outputs": [],
   "source": [
    "# Optimizer\n",
    "train_op = tf.train.AdamOptimizer().minimize(loss)"
   ]
  },
  {
   "cell_type": "markdown",
   "metadata": {},
   "source": [
    "Get some data"
   ]
  },
  {
   "cell_type": "code",
   "execution_count": 8,
   "metadata": {
    "collapsed": false,
    "scrolled": true
   },
   "outputs": [
    {
     "name": "stdout",
     "output_type": "stream",
     "text": [
      "Extracting MNIST_data/train-images-idx3-ubyte.gz\n",
      "Extracting MNIST_data/train-labels-idx1-ubyte.gz\n",
      "Extracting MNIST_data/t10k-images-idx3-ubyte.gz\n",
      "Extracting MNIST_data/t10k-labels-idx1-ubyte.gz\n"
     ]
    }
   ],
   "source": [
    "mnist = input_data.read_data_sets(\"MNIST_data/\", one_hot=True)\n",
    "\n",
    "# Validation split\n",
    "valid_ratio = float(10)/55\n",
    "train_pairs = zip(mnist.train.images, mnist.train.labels)\n",
    "random.shuffle(train_pairs)\n",
    "train_X, train_Y = zip(*train_pairs[int(valid_ratio*len(train_pairs)):])\n",
    "valid_X, valid_Y = zip(*train_pairs[:int(valid_ratio*len(train_pairs))])\n",
    "\n",
    "# Test pairs\n",
    "test_X, test_Y = mnist.test.images, mnist.test.labels"
   ]
  },
  {
   "cell_type": "code",
   "execution_count": 9,
   "metadata": {
    "collapsed": false
   },
   "outputs": [
    {
     "name": "stdout",
     "output_type": "stream",
     "text": [
      "Training: 45000\n",
      "Validation: 10000\n",
      "Test: 10000\n"
     ]
    }
   ],
   "source": [
    "print 'Training:', len(train_X)\n",
    "print 'Validation:', len(valid_X)\n",
    "print 'Test:', len(test_X)"
   ]
  },
  {
   "cell_type": "markdown",
   "metadata": {},
   "source": [
    "Training"
   ]
  },
  {
   "cell_type": "code",
   "execution_count": 10,
   "metadata": {
    "collapsed": true
   },
   "outputs": [],
   "source": [
    "batch_size = 64"
   ]
  },
  {
   "cell_type": "code",
   "execution_count": 11,
   "metadata": {
    "collapsed": false,
    "scrolled": true
   },
   "outputs": [
    {
     "name": "stdout",
     "output_type": "stream",
     "text": [
      "End of epoch 1:\n",
      "Training loss: 0.27255307683 Validation loss: 0.25382375555 Test loss: 0.253380632974\n",
      "\n",
      "End of epoch 2:\n",
      "Training loss: 0.225805829072 Validation loss: 0.19960057592 Test loss: 0.198686997844\n",
      "\n",
      "End of epoch 3:\n",
      "Training loss: 0.183324761753 Validation loss: 0.16979204604 Test loss: 0.168651267411\n",
      "\n",
      "End of epoch 4:\n",
      "Training loss: 0.159561329733 Validation loss: 0.150558416286 Test loss: 0.149257615497\n",
      "\n",
      "End of epoch 5:\n",
      "Training loss: 0.143540339612 Validation loss: 0.137308059595 Test loss: 0.135859392127\n",
      "\n",
      "End of epoch 6:\n",
      "Training loss: 0.13161292919 Validation loss: 0.126731692903 Test loss: 0.1251901609\n",
      "\n",
      "End of epoch 7:\n",
      "Training loss: 0.122174775455 Validation loss: 0.118618874385 Test loss: 0.117030774468\n",
      "\n",
      "End of epoch 8:\n",
      "Training loss: 0.115221001799 Validation loss: 0.112782056328 Test loss: 0.111189895372\n",
      "\n",
      "End of epoch 9:\n",
      "Training loss: 0.110158150278 Validation loss: 0.108443966528 Test loss: 0.106879871594\n",
      "\n",
      "End of epoch 10:\n",
      "Training loss: 0.106296394056 Validation loss: 0.105058536175 Test loss: 0.103536226623\n",
      "\n",
      "End of epoch 11:\n",
      "Training loss: 0.103198773526 Validation loss: 0.102222220989 Test loss: 0.100742397135\n",
      "\n",
      "End of epoch 12:\n",
      "Training loss: 0.100480316581 Validation loss: 0.0996431625682 Test loss: 0.0982053563708\n",
      "\n",
      "End of epoch 13:\n",
      "Training loss: 0.0978898460413 Validation loss: 0.0970323680272 Test loss: 0.0956130123213\n",
      "\n",
      "End of epoch 14:\n",
      "Training loss: 0.0950937509765 Validation loss: 0.0940213222768 Test loss: 0.0926519867514\n",
      "\n",
      "End of epoch 15:\n",
      "Training loss: 0.091861787173 Validation loss: 0.0907167874351 Test loss: 0.0894296493972\n",
      "\n",
      "End of epoch 16:\n",
      "Training loss: 0.0887352777752 Validation loss: 0.0877660653592 Test loss: 0.0865456705191\n",
      "\n",
      "End of epoch 17:\n",
      "Training loss: 0.0859455848448 Validation loss: 0.0851543408486 Test loss: 0.0840159491804\n",
      "\n",
      "End of epoch 18:\n",
      "Training loss: 0.0835074397252 Validation loss: 0.0829051142585 Test loss: 0.0818462800381\n",
      "\n",
      "End of epoch 19:\n",
      "Training loss: 0.0814250432677 Validation loss: 0.0810020002066 Test loss: 0.0800036718432\n",
      "\n",
      "End of epoch 20:\n",
      "Training loss: 0.0796650488615 Validation loss: 0.0793831245803 Test loss: 0.0784373694474\n",
      "\n"
     ]
    }
   ],
   "source": [
    "sess = tf.Session()\n",
    "sess.run(tf.initialize_all_variables())\n",
    "\n",
    "for i in range(20):\n",
    "    train_loss = []\n",
    "    valid_loss = []\n",
    "    test_loss  = []\n",
    "\n",
    "    for j in range(len(train_X)/batch_size):\n",
    "        start = j * batch_size\n",
    "        end   = (j+1) * batch_size\n",
    "        loss_, _ = sess.run([loss, train_op], feed_dict={input_: train_X[start:end]})\n",
    "\n",
    "        train_loss.append(loss_/(batch_size * 784))\n",
    "\n",
    "    for j in range(len(valid_X)/batch_size):\n",
    "        start = j * batch_size\n",
    "        end   = (j+1) * batch_size\n",
    "        loss_ = sess.run(loss, feed_dict={input_: valid_X[start:end]})\n",
    "\n",
    "        valid_loss.append(loss_/(batch_size * 784))\n",
    "\n",
    "    for j in range(len(test_X)/batch_size):\n",
    "        start = j * batch_size\n",
    "        end   = (j+1) * batch_size\n",
    "        loss_ = sess.run(loss, feed_dict={input_: test_X[start:end]})\n",
    "\n",
    "        test_loss.append(loss_/(batch_size * 784))\n",
    "\n",
    "    print 'End of epoch %d:' % (i+1)\n",
    "    print 'Training loss:', np.mean(train_loss), \\\n",
    "          'Validation loss:', np.mean(valid_loss), \\\n",
    "          'Test loss:', np.mean(test_loss)\n",
    "    print"
   ]
  },
  {
   "cell_type": "markdown",
   "metadata": {},
   "source": [
    "# Demonstration"
   ]
  },
  {
   "cell_type": "code",
   "execution_count": 12,
   "metadata": {
    "collapsed": false
   },
   "outputs": [],
   "source": [
    "from matplotlib.pyplot import imshow"
   ]
  },
  {
   "cell_type": "code",
   "execution_count": 16,
   "metadata": {
    "collapsed": false
   },
   "outputs": [
    {
     "data": {
      "text/plain": [
       "<matplotlib.image.AxesImage at 0x7f9330c407d0>"
      ]
     },
     "execution_count": 16,
     "metadata": {},
     "output_type": "execute_result"
    },
    {
     "data": {
      "image/png": "[encoded data removed]",
      "text/plain": [
       "<matplotlib.figure.Figure at 0x7f9332d6f290>"
      ]
     },
     "metadata": {},
     "output_type": "display_data"
    }
   ],
   "source": [
    "%matplotlib inline\n",
    "# Input\n",
    "this_input = random.sample(test_X, 1)[0]\n",
    "imshow(np.reshape(this_input, (28, 28)), interpolation='nearest', cmap='Greys_r')"
   ]
  },
  {
   "cell_type": "code",
   "execution_count": 17,
   "metadata": {
    "collapsed": false
   },
   "outputs": [],
   "source": [
    "# Get output\n",
    "this_output = sess.run(output, feed_dict={input_: [this_input]})"
   ]
  },
  {
   "cell_type": "code",
   "execution_count": 18,
   "metadata": {
    "collapsed": false
   },
   "outputs": [
    {
     "data": {
      "text/plain": [
       "<matplotlib.image.AxesImage at 0x7f9330b8e110>"
      ]
     },
     "execution_count": 18,
     "metadata": {},
     "output_type": "execute_result"
    },
    {
     "data": {
      "image/png": "[encoded data removed]",
      "text/plain": [
       "<matplotlib.figure.Figure at 0x7f9330c8d310>"
      ]
     },
     "metadata": {},
     "output_type": "display_data"
    }
   ],
   "source": [
    "%matplotlib inline\n",
    "# Output\n",
    "imshow(np.reshape(this_output, (28, 28)), interpolation='nearest', cmap='Greys_r')"
   ]
  }
 ],
 "metadata": {
  "kernelspec": {
   "display_name": "Python 2",
   "language": "python",
   "name": "python2"
  },
  "language_info": {
   "codemirror_mode": {
    "name": "ipython",
    "version": 2
   },
   "file_extension": ".py",
   "mimetype": "text/x-python",
   "name": "python",
   "nbconvert_exporter": "python",
   "pygments_lexer": "ipython2",
   "version": "2.7.11+"
  }
 },
 "nbformat": 4,
 "nbformat_minor": 0
}
