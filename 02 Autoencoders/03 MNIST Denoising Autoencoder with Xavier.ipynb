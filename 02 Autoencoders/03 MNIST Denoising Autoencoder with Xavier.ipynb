{
 "cells": [
  {
   "cell_type": "code",
   "execution_count": 1,
   "metadata": {
    "collapsed": true
   },
   "outputs": [],
   "source": [
    "import tensorflow as tf\n",
    "import input_data\n",
    "import numpy as np\n",
    "import random"
   ]
  },
  {
   "cell_type": "code",
   "execution_count": 2,
   "metadata": {
    "collapsed": true
   },
   "outputs": [],
   "source": [
    "hidden_size = 100"
   ]
  },
  {
   "cell_type": "code",
   "execution_count": 3,
   "metadata": {
    "collapsed": true
   },
   "outputs": [],
   "source": [
    "def get_weights(shape, interval):\n",
    "    val = np.random.uniform(-interval, interval, size=shape)\n",
    "    val = np.cast['float32'](val)\n",
    "    \n",
    "    return tf.Variable(val)\n",
    "\n",
    "def get_bias(shape, offset=0):\n",
    "    val = np.zeros(shape) - offset\n",
    "    val = np.cast['float32'](val)\n",
    "    \n",
    "    return tf.Variable(val)"
   ]
  },
  {
   "cell_type": "code",
   "execution_count": 4,
   "metadata": {
    "collapsed": true
   },
   "outputs": [],
   "source": [
    "def binomial_draw(shape=[1], p=0.5, dtype='float32'):\n",
    "    return tf.select(tf.less(tf.random_uniform(shape=shape, minval=0, maxval=1, dtype='float32'), tf.fill(shape, p)), tf.ones(shape, dtype=dtype), tf.zeros(shape, dtype=dtype))"
   ]
  },
  {
   "cell_type": "code",
   "execution_count": 5,
   "metadata": {
    "collapsed": true
   },
   "outputs": [],
   "source": [
    "def add_noise(tensor, rate=0.2):\n",
    "    # Salt and pepper noise\n",
    "    a = binomial_draw(shape=tf.shape(tensor), p=1-rate, dtype='float32')\n",
    "    b = binomial_draw(shape=tf.shape(tensor), p=0.5, dtype='float32')\n",
    "    z = tf.zeros(tf.shape(tensor), dtype='float32')\n",
    "    c = tf.select(tf.equal(a, z), b, z)\n",
    "    \n",
    "    return tf.add(tf.mul(tensor, a), c)"
   ]
  },
  {
   "cell_type": "markdown",
   "metadata": {},
   "source": [
    "Input"
   ]
  },
  {
   "cell_type": "code",
   "execution_count": 6,
   "metadata": {
    "collapsed": true
   },
   "outputs": [],
   "source": [
    "input_ = tf.placeholder(tf.float32, [None, 784])"
   ]
  },
  {
   "cell_type": "markdown",
   "metadata": {},
   "source": [
    "Model"
   ]
  },
  {
   "cell_type": "code",
   "execution_count": 7,
   "metadata": {
    "collapsed": false
   },
   "outputs": [],
   "source": [
    "# Binarize input\n",
    "binarized_input = tf.floor(tf.add(input_, tf.fill(tf.shape(input_), 0.5)))\n",
    "\n",
    "# Add noise to input\n",
    "noised_input = add_noise(binarized_input)\n",
    "\n",
    "# Input layer to hidden layer\n",
    "W1 = get_weights([784, hidden_size], np.sqrt(6. / (784 + hidden_size)))\n",
    "b1 = get_bias([hidden_size])\n",
    "\n",
    "# Hidden layer to output layer\n",
    "W2 = get_weights([hidden_size, 784], np.sqrt(6. / (784 + hidden_size)))\n",
    "b2 = get_bias([784])\n",
    "\n",
    "# Activations\n",
    "hidden = tf.sigmoid(tf.matmul(noised_input, W1) + b1)\n",
    "output = tf.sigmoid(tf.matmul(hidden, W2) + b2)"
   ]
  },
  {
   "cell_type": "markdown",
   "metadata": {},
   "source": [
    "Loss and Optimizer"
   ]
  },
  {
   "cell_type": "code",
   "execution_count": 8,
   "metadata": {
    "collapsed": false
   },
   "outputs": [],
   "source": [
    "# Loss\n",
    "clipped_output         = tf.clip_by_value(output, 1e-10, 1.0)\n",
    "clipped_1_minus_output = tf.clip_by_value(1 - output, 1e-10, 1.0)\n",
    "\n",
    "loss = -tf.reduce_sum(input_ * tf.log(clipped_output) + (1 - input_) * tf.log(clipped_1_minus_output))"
   ]
  },
  {
   "cell_type": "code",
   "execution_count": 9,
   "metadata": {
    "collapsed": true
   },
   "outputs": [],
   "source": [
    "# Optimizer\n",
    "train_op = tf.train.AdamOptimizer().minimize(loss)"
   ]
  },
  {
   "cell_type": "markdown",
   "metadata": {},
   "source": [
    "Get some data"
   ]
  },
  {
   "cell_type": "code",
   "execution_count": 10,
   "metadata": {
    "collapsed": false,
    "scrolled": true
   },
   "outputs": [
    {
     "name": "stdout",
     "output_type": "stream",
     "text": [
      "Extracting MNIST_data/train-images-idx3-ubyte.gz\n",
      "Extracting MNIST_data/train-labels-idx1-ubyte.gz\n",
      "Extracting MNIST_data/t10k-images-idx3-ubyte.gz\n",
      "Extracting MNIST_data/t10k-labels-idx1-ubyte.gz\n"
     ]
    }
   ],
   "source": [
    "mnist = input_data.read_data_sets(\"MNIST_data/\", one_hot=True)\n",
    "\n",
    "# Validation split\n",
    "valid_ratio = float(10)/55\n",
    "train_pairs = zip(mnist.train.images, mnist.train.labels)\n",
    "random.shuffle(train_pairs)\n",
    "train_X, train_Y = zip(*train_pairs[int(valid_ratio*len(train_pairs)):])\n",
    "valid_X, valid_Y = zip(*train_pairs[:int(valid_ratio*len(train_pairs))])\n",
    "\n",
    "# Test pairs\n",
    "test_X, test_Y = mnist.test.images, mnist.test.labels"
   ]
  },
  {
   "cell_type": "code",
   "execution_count": 11,
   "metadata": {
    "collapsed": false
   },
   "outputs": [
    {
     "name": "stdout",
     "output_type": "stream",
     "text": [
      "Training: 45000\n",
      "Validation: 10000\n",
      "Test: 10000\n"
     ]
    }
   ],
   "source": [
    "print 'Training:', len(train_X)\n",
    "print 'Validation:', len(valid_X)\n",
    "print 'Test:', len(test_X)"
   ]
  },
  {
   "cell_type": "markdown",
   "metadata": {},
   "source": [
    "Training"
   ]
  },
  {
   "cell_type": "code",
   "execution_count": 12,
   "metadata": {
    "collapsed": true
   },
   "outputs": [],
   "source": [
    "batch_size = 64"
   ]
  },
  {
   "cell_type": "code",
   "execution_count": 13,
   "metadata": {
    "collapsed": false,
    "scrolled": true
   },
   "outputs": [
    {
     "name": "stdout",
     "output_type": "stream",
     "text": [
      "End of epoch 1:\n",
      "Training loss: 0.270948203641 Validation loss: 0.255506187506 Test loss: 0.254061198122\n",
      "\n",
      "End of epoch 2:\n",
      "Training loss: 0.23578257451 Validation loss: 0.218055140217 Test loss: 0.21670497518\n",
      "\n",
      "End of epoch 3:\n",
      "Training loss: 0.203824126164 Validation loss: 0.193788139312 Test loss: 0.192402676473\n",
      "\n",
      "End of epoch 4:\n",
      "Training loss: 0.186367314907 Validation loss: 0.180409760577 Test loss: 0.179038624811\n",
      "\n",
      "End of epoch 5:\n",
      "Training loss: 0.174867935623 Validation loss: 0.170191352122 Test loss: 0.16881127622\n",
      "\n",
      "End of epoch 6:\n",
      "Training loss: 0.165865578271 Validation loss: 0.16247745461 Test loss: 0.16100752728\n",
      "\n",
      "End of epoch 7:\n",
      "Training loss: 0.159458080376 Validation loss: 0.157174416077 Test loss: 0.155568129913\n",
      "\n",
      "End of epoch 8:\n",
      "Training loss: 0.154738886421 Validation loss: 0.152957961486 Test loss: 0.151414421701\n",
      "\n",
      "End of epoch 9:\n",
      "Training loss: 0.151063823747 Validation loss: 0.149721278376 Test loss: 0.148173181129\n",
      "\n",
      "End of epoch 10:\n",
      "Training loss: 0.148090271174 Validation loss: 0.147024450409 Test loss: 0.145445101988\n",
      "\n",
      "End of epoch 11:\n",
      "Training loss: 0.145618599074 Validation loss: 0.144693875238 Test loss: 0.143140655984\n",
      "\n",
      "End of epoch 12:\n",
      "Training loss: 0.143013552477 Validation loss: 0.141790538605 Test loss: 0.140175925257\n",
      "\n",
      "End of epoch 13:\n",
      "Training loss: 0.140255623571 Validation loss: 0.139419916848 Test loss: 0.137713148605\n",
      "\n",
      "End of epoch 14:\n",
      "Training loss: 0.138213547753 Validation loss: 0.137507805832 Test loss: 0.135869460353\n",
      "\n",
      "End of epoch 15:\n",
      "Training loss: 0.136696208339 Validation loss: 0.136160830937 Test loss: 0.134321805634\n",
      "\n",
      "End of epoch 16:\n",
      "Training loss: 0.135237659665 Validation loss: 0.134725682153 Test loss: 0.132952404297\n",
      "\n",
      "End of epoch 17:\n",
      "Training loss: 0.133866535824 Validation loss: 0.133262326679 Test loss: 0.131453247984\n",
      "\n",
      "End of epoch 18:\n",
      "Training loss: 0.131908790818 Validation loss: 0.130971810944 Test loss: 0.12911137101\n",
      "\n",
      "End of epoch 19:\n",
      "Training loss: 0.128886571065 Validation loss: 0.127214495079 Test loss: 0.125435893726\n",
      "\n",
      "End of epoch 20:\n",
      "Training loss: 0.124924881876 Validation loss: 0.122967118621 Test loss: 0.121411527282\n",
      "\n"
     ]
    }
   ],
   "source": [
    "sess = tf.Session()\n",
    "sess.run(tf.initialize_all_variables())\n",
    "\n",
    "for i in range(20):\n",
    "    train_loss = []\n",
    "    valid_loss = []\n",
    "    test_loss  = []\n",
    "\n",
    "    for j in range(len(train_X)/batch_size):\n",
    "        start = j * batch_size\n",
    "        end   = (j+1) * batch_size\n",
    "        loss_, _ = sess.run([loss, train_op], feed_dict={input_: train_X[start:end]})\n",
    "\n",
    "        train_loss.append(loss_/(batch_size * 784))\n",
    "\n",
    "    for j in range(len(valid_X)/batch_size):\n",
    "        start = j * batch_size\n",
    "        end   = (j+1) * batch_size\n",
    "        loss_ = sess.run(loss, feed_dict={input_: valid_X[start:end]})\n",
    "\n",
    "        valid_loss.append(loss_/(batch_size * 784))\n",
    "\n",
    "    for j in range(len(test_X)/batch_size):\n",
    "        start = j * batch_size\n",
    "        end   = (j+1) * batch_size\n",
    "        loss_ = sess.run(loss, feed_dict={input_: test_X[start:end]})\n",
    "\n",
    "        test_loss.append(loss_/(batch_size * 784))\n",
    "\n",
    "    print 'End of epoch %d:' % (i+1)\n",
    "    print 'Training loss:', np.mean(train_loss), \\\n",
    "          'Validation loss:', np.mean(valid_loss), \\\n",
    "          'Test loss:', np.mean(test_loss)\n",
    "    print"
   ]
  },
  {
   "cell_type": "markdown",
   "metadata": {},
   "source": [
    "# Demonstration"
   ]
  },
  {
   "cell_type": "code",
   "execution_count": 14,
   "metadata": {
    "collapsed": false
   },
   "outputs": [],
   "source": [
    "from matplotlib.pyplot import imshow"
   ]
  },
  {
   "cell_type": "code",
   "execution_count": 15,
   "metadata": {
    "collapsed": false
   },
   "outputs": [
    {
     "data": {
      "text/plain": [
       "<matplotlib.image.AxesImage at 0x7f7fb9200890>"
      ]
     },
     "execution_count": 15,
     "metadata": {},
     "output_type": "execute_result"
    },
    {
     "data": {
      "image/png": "[encoded data removed]",
      "text/plain": [
       "<matplotlib.figure.Figure at 0x7f7fb94f6b50>"
      ]
     },
     "metadata": {},
     "output_type": "display_data"
    }
   ],
   "source": [
    "%matplotlib inline\n",
    "# Input\n",
    "this_input = random.sample(test_X, 1)[0]\n",
    "imshow(np.reshape(this_input, (28, 28)), interpolation='none', cmap='Greys_r')"
   ]
  },
  {
   "cell_type": "code",
   "execution_count": 16,
   "metadata": {
    "collapsed": false
   },
   "outputs": [],
   "source": [
    "# Get output\n",
    "this_noised_input, this_output = sess.run([noised_input, output], feed_dict={input_: [this_input]})"
   ]
  },
  {
   "cell_type": "code",
   "execution_count": 17,
   "metadata": {
    "collapsed": false
   },
   "outputs": [
    {
     "data": {
      "text/plain": [
       "<matplotlib.image.AxesImage at 0x7f7fb90ff690>"
      ]
     },
     "execution_count": 17,
     "metadata": {},
     "output_type": "execute_result"
    },
    {
     "data": {
      "image/png": "[encoded data removed]",
      "text/plain": [
       "<matplotlib.figure.Figure at 0x7f7fb94f6c50>"
      ]
     },
     "metadata": {},
     "output_type": "display_data"
    }
   ],
   "source": [
    "%matplotlib inline\n",
    "# Noised input\n",
    "imshow(np.reshape(this_noised_input, (28, 28)), interpolation='nearest', cmap='Greys_r')"
   ]
  },
  {
   "cell_type": "code",
   "execution_count": 18,
   "metadata": {
    "collapsed": false
   },
   "outputs": [
    {
     "data": {
      "text/plain": [
       "<matplotlib.image.AxesImage at 0x7f7fb903e250>"
      ]
     },
     "execution_count": 18,
     "metadata": {},
     "output_type": "execute_result"
    },
    {
     "data": {
      "image/png": "[encoded data removed]",
      "text/plain": [
       "<matplotlib.figure.Figure at 0x7f7fb91ba690>"
      ]
     },
     "metadata": {},
     "output_type": "display_data"
    }
   ],
   "source": [
    "%matplotlib inline\n",
    "# Output\n",
    "imshow(np.reshape(this_output, (28, 28)), interpolation='none', cmap='Greys_r')"
   ]
  }
 ],
 "metadata": {
  "kernelspec": {
   "display_name": "Python 2",
   "language": "python",
   "name": "python2"
  },
  "language_info": {
   "codemirror_mode": {
    "name": "ipython",
    "version": 2
   },
   "file_extension": ".py",
   "mimetype": "text/x-python",
   "name": "python",
   "nbconvert_exporter": "python",
   "pygments_lexer": "ipython2",
   "version": "2.7.11+"
  }
 },
 "nbformat": 4,
 "nbformat_minor": 0
}
