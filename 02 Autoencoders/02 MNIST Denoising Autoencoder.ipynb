{
 "cells": [
  {
   "cell_type": "code",
   "execution_count": 1,
   "metadata": {
    "collapsed": true
   },
   "outputs": [],
   "source": [
    "import tensorflow as tf\n",
    "import input_data\n",
    "import numpy as np\n",
    "import random"
   ]
  },
  {
   "cell_type": "code",
   "execution_count": 2,
   "metadata": {
    "collapsed": true
   },
   "outputs": [],
   "source": [
    "hidden_size = 100"
   ]
  },
  {
   "cell_type": "code",
   "execution_count": 3,
   "metadata": {
    "collapsed": true
   },
   "outputs": [],
   "source": [
    "def get_weights(shape):\n",
    "    return tf.Variable(tf.random_normal(shape, stddev=0.01))\n",
    "\n",
    "def get_bias(shape):\n",
    "    return tf.Variable(np.zeros(shape), dtype=tf.float32)"
   ]
  },
  {
   "cell_type": "code",
   "execution_count": 4,
   "metadata": {
    "collapsed": true
   },
   "outputs": [],
   "source": [
    "def binomial_draw(shape=[1], p=0.5, dtype='float32'):\n",
    "    return tf.select(tf.less(tf.random_uniform(shape=shape, minval=0, maxval=1, dtype='float32'), tf.fill(shape, p)), tf.ones(shape, dtype=dtype), tf.zeros(shape, dtype=dtype))"
   ]
  },
  {
   "cell_type": "code",
   "execution_count": 5,
   "metadata": {
    "collapsed": true
   },
   "outputs": [],
   "source": [
    "def add_noise(tensor, rate=0.2):\n",
    "    # Salt and pepper noise\n",
    "    a = binomial_draw(shape=tf.shape(tensor), p=1-rate, dtype='float32')\n",
    "    b = binomial_draw(shape=tf.shape(tensor), p=0.5, dtype='float32')\n",
    "    z = tf.zeros(tf.shape(tensor), dtype='float32')\n",
    "    c = tf.select(tf.equal(a, z), b, z)\n",
    "    \n",
    "    return tf.add(tf.mul(tensor, a), c)"
   ]
  },
  {
   "cell_type": "markdown",
   "metadata": {},
   "source": [
    "Input"
   ]
  },
  {
   "cell_type": "code",
   "execution_count": 6,
   "metadata": {
    "collapsed": true
   },
   "outputs": [],
   "source": [
    "input_ = tf.placeholder(tf.float32, [None, 784])"
   ]
  },
  {
   "cell_type": "markdown",
   "metadata": {},
   "source": [
    "Model"
   ]
  },
  {
   "cell_type": "code",
   "execution_count": 7,
   "metadata": {
    "collapsed": false
   },
   "outputs": [],
   "source": [
    "# Binarize input\n",
    "binarized_input = tf.floor(tf.add(input_, tf.fill(tf.shape(input_), 0.5)))\n",
    "\n",
    "# Add noise to input\n",
    "noised_input = add_noise(binarized_input)\n",
    "\n",
    "# Input layer to hidden layer\n",
    "W1 = get_weights([784, hidden_size])\n",
    "b1 = get_bias([hidden_size])\n",
    "\n",
    "# Hidden layer to output layer\n",
    "W2 = get_weights([hidden_size, 784])\n",
    "b2 = get_bias([784])\n",
    "\n",
    "# Activations\n",
    "hidden = tf.sigmoid(tf.matmul(noised_input, W1) + b1)\n",
    "output = tf.sigmoid(tf.matmul(hidden, W2) + b2)"
   ]
  },
  {
   "cell_type": "markdown",
   "metadata": {},
   "source": [
    "Loss and Optimizer"
   ]
  },
  {
   "cell_type": "code",
   "execution_count": 8,
   "metadata": {
    "collapsed": false
   },
   "outputs": [],
   "source": [
    "# Loss\n",
    "clipped_output         = tf.clip_by_value(output, 1e-10, 1.0)\n",
    "clipped_1_minus_output = tf.clip_by_value(1 - output, 1e-10, 1.0)\n",
    "\n",
    "loss = -tf.reduce_sum(input_ * tf.log(clipped_output) + (1 - input_) * tf.log(clipped_1_minus_output))"
   ]
  },
  {
   "cell_type": "code",
   "execution_count": 9,
   "metadata": {
    "collapsed": true
   },
   "outputs": [],
   "source": [
    "# Optimizer\n",
    "train_op = tf.train.AdamOptimizer().minimize(loss)"
   ]
  },
  {
   "cell_type": "markdown",
   "metadata": {},
   "source": [
    "Get some data"
   ]
  },
  {
   "cell_type": "code",
   "execution_count": 10,
   "metadata": {
    "collapsed": false,
    "scrolled": true
   },
   "outputs": [
    {
     "name": "stdout",
     "output_type": "stream",
     "text": [
      "Extracting MNIST_data/train-images-idx3-ubyte.gz\n",
      "Extracting MNIST_data/train-labels-idx1-ubyte.gz\n",
      "Extracting MNIST_data/t10k-images-idx3-ubyte.gz\n",
      "Extracting MNIST_data/t10k-labels-idx1-ubyte.gz\n"
     ]
    }
   ],
   "source": [
    "mnist = input_data.read_data_sets(\"MNIST_data/\", one_hot=True)\n",
    "\n",
    "# Validation split\n",
    "valid_ratio = float(10)/55\n",
    "train_pairs = zip(mnist.train.images, mnist.train.labels)\n",
    "random.shuffle(train_pairs)\n",
    "train_X, train_Y = zip(*train_pairs[int(valid_ratio*len(train_pairs)):])\n",
    "valid_X, valid_Y = zip(*train_pairs[:int(valid_ratio*len(train_pairs))])\n",
    "\n",
    "# Test pairs\n",
    "test_X, test_Y = mnist.test.images, mnist.test.labels"
   ]
  },
  {
   "cell_type": "code",
   "execution_count": 11,
   "metadata": {
    "collapsed": false
   },
   "outputs": [
    {
     "name": "stdout",
     "output_type": "stream",
     "text": [
      "Training: 45000\n",
      "Validation: 10000\n",
      "Test: 10000\n"
     ]
    }
   ],
   "source": [
    "print 'Training:', len(train_X)\n",
    "print 'Validation:', len(valid_X)\n",
    "print 'Test:', len(test_X)"
   ]
  },
  {
   "cell_type": "markdown",
   "metadata": {},
   "source": [
    "Training"
   ]
  },
  {
   "cell_type": "code",
   "execution_count": 12,
   "metadata": {
    "collapsed": true
   },
   "outputs": [],
   "source": [
    "batch_size = 64"
   ]
  },
  {
   "cell_type": "code",
   "execution_count": 13,
   "metadata": {
    "collapsed": false,
    "scrolled": true
   },
   "outputs": [
    {
     "name": "stdout",
     "output_type": "stream",
     "text": [
      "End of epoch 1:\n",
      "Training loss: 0.272556639951 Validation loss: 0.263112015028 Test loss: 0.262967425201\n",
      "\n",
      "End of epoch 2:\n",
      "Training loss: 0.263556854408 Validation loss: 0.262971292922 Test loss: 0.262825863203\n",
      "\n",
      "End of epoch 3:\n",
      "Training loss: 0.263501118876 Validation loss: 0.262940294889 Test loss: 0.262794957368\n",
      "\n",
      "End of epoch 4:\n",
      "Training loss: 0.26349031855 Validation loss: 0.262929806592 Test loss: 0.262784473438\n",
      "\n",
      "End of epoch 5:\n",
      "Training loss: 0.263488337254 Validation loss: 0.26292577481 Test loss: 0.262780159072\n",
      "\n",
      "End of epoch 6:\n",
      "Training loss: 0.263488650097 Validation loss: 0.262924490893 Test loss: 0.262778164391\n",
      "\n",
      "End of epoch 7:\n",
      "Training loss: 0.263489389847 Validation loss: 0.262924014555 Test loss: 0.262777385258\n",
      "\n",
      "End of epoch 8:\n",
      "Training loss: 0.263490162875 Validation loss: 0.262923828661 Test loss: 0.262776948593\n",
      "\n",
      "End of epoch 9:\n",
      "Training loss: 0.263490713674 Validation loss: 0.262923711385 Test loss: 0.262776681729\n",
      "\n",
      "End of epoch 10:\n",
      "Training loss: 0.263491124634 Validation loss: 0.262923615569 Test loss: 0.262776534636\n",
      "\n",
      "End of epoch 11:\n",
      "Training loss: 0.263491366631 Validation loss: 0.262923591116 Test loss: 0.26277645666\n",
      "\n",
      "End of epoch 12:\n",
      "Training loss: 0.26349152081 Validation loss: 0.262923584254 Test loss: 0.262776324788\n",
      "\n",
      "End of epoch 13:\n",
      "Training loss: 0.263491587947 Validation loss: 0.26292360958 Test loss: 0.262776269394\n",
      "\n",
      "End of epoch 14:\n",
      "Training loss: 0.263491637697 Validation loss: 0.262923626548 Test loss: 0.262776242321\n",
      "\n",
      "End of epoch 15:\n",
      "Training loss: 0.263491650321 Validation loss: 0.262923615444 Test loss: 0.262776148874\n",
      "\n",
      "End of epoch 16:\n",
      "Training loss: 0.263491623661 Validation loss: 0.262923640147 Test loss: 0.262776121926\n",
      "\n",
      "End of epoch 17:\n",
      "Training loss: 0.263491626484 Validation loss: 0.262923648755 Test loss: 0.262776085745\n",
      "\n",
      "End of epoch 18:\n",
      "Training loss: 0.263491605167 Validation loss: 0.262923679821 Test loss: 0.262776075141\n",
      "\n",
      "End of epoch 19:\n",
      "Training loss: 0.263491603755 Validation loss: 0.262923713382 Test loss: 0.262776067655\n",
      "\n",
      "End of epoch 20:\n",
      "Training loss: 0.263491596944 Validation loss: 0.262923740081 Test loss: 0.262776061417\n",
      "\n"
     ]
    }
   ],
   "source": [
    "sess = tf.Session()\n",
    "sess.run(tf.initialize_all_variables())\n",
    "\n",
    "for i in range(20):\n",
    "    train_loss = []\n",
    "    valid_loss = []\n",
    "    test_loss  = []\n",
    "\n",
    "    for j in range(len(train_X)/batch_size):\n",
    "        start = j * batch_size\n",
    "        end   = (j+1) * batch_size\n",
    "        loss_, _ = sess.run([loss, train_op], feed_dict={input_: train_X[start:end]})\n",
    "\n",
    "        train_loss.append(loss_/(batch_size * 784))\n",
    "\n",
    "    for j in range(len(valid_X)/batch_size):\n",
    "        start = j * batch_size\n",
    "        end   = (j+1) * batch_size\n",
    "        loss_ = sess.run(loss, feed_dict={input_: valid_X[start:end]})\n",
    "\n",
    "        valid_loss.append(loss_/(batch_size * 784))\n",
    "\n",
    "    for j in range(len(test_X)/batch_size):\n",
    "        start = j * batch_size\n",
    "        end   = (j+1) * batch_size\n",
    "        loss_ = sess.run(loss, feed_dict={input_: test_X[start:end]})\n",
    "\n",
    "        test_loss.append(loss_/(batch_size * 784))\n",
    "\n",
    "    print 'End of epoch %d:' % (i+1)\n",
    "    print 'Training loss:', np.mean(train_loss), \\\n",
    "          'Validation loss:', np.mean(valid_loss), \\\n",
    "          'Test loss:', np.mean(test_loss)\n",
    "    print"
   ]
  },
  {
   "cell_type": "markdown",
   "metadata": {},
   "source": [
    "# Demonstration"
   ]
  },
  {
   "cell_type": "code",
   "execution_count": 14,
   "metadata": {
    "collapsed": false
   },
   "outputs": [],
   "source": [
    "from matplotlib.pyplot import imshow"
   ]
  },
  {
   "cell_type": "code",
   "execution_count": 15,
   "metadata": {
    "collapsed": false
   },
   "outputs": [
    {
     "data": {
      "text/plain": [
       "<matplotlib.image.AxesImage at 0x7fd3740e6dd0>"
      ]
     },
     "execution_count": 15,
     "metadata": {},
     "output_type": "execute_result"
    },
    {
     "data": {
      "image/png": "[encoded data removed]",
      "text/plain": [
       "<matplotlib.figure.Figure at 0x7fd3741bc7d0>"
      ]
     },
     "metadata": {},
     "output_type": "display_data"
    }
   ],
   "source": [
    "%matplotlib inline\n",
    "# Input\n",
    "this_input = random.sample(test_X, 1)[0]\n",
    "imshow(np.reshape(this_input, (28, 28)), interpolation='none', cmap='Greys_r')"
   ]
  },
  {
   "cell_type": "code",
   "execution_count": 16,
   "metadata": {
    "collapsed": false
   },
   "outputs": [],
   "source": [
    "# Get output\n",
    "this_noised_input, this_output = sess.run([noised_input, output], feed_dict={input_: [this_input]})"
   ]
  },
  {
   "cell_type": "code",
   "execution_count": 17,
   "metadata": {
    "collapsed": false
   },
   "outputs": [
    {
     "data": {
      "text/plain": [
       "<matplotlib.image.AxesImage at 0x7fd374062c90>"
      ]
     },
     "execution_count": 17,
     "metadata": {},
     "output_type": "execute_result"
    },
    {
     "data": {
      "image/png": "[encoded data removed]",
      "text/plain": [
       "<matplotlib.figure.Figure at 0x7fd3741b33d0>"
      ]
     },
     "metadata": {},
     "output_type": "display_data"
    }
   ],
   "source": [
    "%matplotlib inline\n",
    "# Noised input\n",
    "imshow(np.reshape(this_noised_input, (28, 28)), interpolation='nearest', cmap='Greys_r')"
   ]
  },
  {
   "cell_type": "code",
   "execution_count": 18,
   "metadata": {
    "collapsed": false
   },
   "outputs": [
    {
     "data": {
      "text/plain": [
       "<matplotlib.image.AxesImage at 0x7fd321f7d850>"
      ]
     },
     "execution_count": 18,
     "metadata": {},
     "output_type": "execute_result"
    },
    {
     "data": {
      "image/png": "[encoded data removed]",
      "text/plain": [
       "<matplotlib.figure.Figure at 0x7fd321fd8290>"
      ]
     },
     "metadata": {},
     "output_type": "display_data"
    }
   ],
   "source": [
    "%matplotlib inline\n",
    "# Output\n",
    "imshow(np.reshape(this_output, (28, 28)), interpolation='none', cmap='Greys_r')"
   ]
  }
 ],
 "metadata": {
  "kernelspec": {
   "display_name": "Python 2",
   "language": "python",
   "name": "python2"
  },
  "language_info": {
   "codemirror_mode": {
    "name": "ipython",
    "version": 2
   },
   "file_extension": ".py",
   "mimetype": "text/x-python",
   "name": "python",
   "nbconvert_exporter": "python",
   "pygments_lexer": "ipython2",
   "version": "2.7.11+"
  }
 },
 "nbformat": 4,
 "nbformat_minor": 0
}
